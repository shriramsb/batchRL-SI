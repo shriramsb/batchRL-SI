{
 "cells": [
  {
   "cell_type": "code",
   "execution_count": 628,
   "metadata": {},
   "outputs": [
    {
     "name": "stdout",
     "output_type": "stream",
     "text": [
      "The autoreload extension is already loaded. To reload it, use:\n",
      "  %reload_ext autoreload\n"
     ]
    }
   ],
   "source": [
    "import math\n",
    "from mdp_environment import *\n",
    "from mdp_batchRL_agent import *\n",
    "import numpy as np\n",
    "\n",
    "from tqdm import tqdm_notebook\n",
    "\n",
    "from copy import deepcopy\n",
    "\n",
    "%matplotlib inline\n",
    "import matplotlib.pyplot as plt\n",
    "\n",
    "%load_ext autoreload\n",
    "%autoreload 2"
   ]
  },
  {
   "cell_type": "code",
   "execution_count": 664,
   "metadata": {},
   "outputs": [],
   "source": [
    "def simulateEpisodes(environment, agent, num_episodes, test_every=50):\n",
    "    episode = 0\n",
    "    Q_val_list = []\n",
    "    param_list = []\n",
    "    for episode in tqdm_notebook(range(num_episodes)):\n",
    "        environment.resetCurrentState()\n",
    "#         print('Episode %d' % (episode, ))\n",
    "        while (True):\n",
    "            state = environment.getCurrentState()\n",
    "            action = agent.getAction(state, train=True)\n",
    "            reward, next_state, is_terminal = environment.takeAction(action)\n",
    "            agent.update((state, action, reward, next_state), is_terminal)\n",
    "            if (is_terminal):\n",
    "                break\n",
    "\n",
    "        Q_val_list.append(agent.getQValuesFromStateList([MDPState(i) for i in range(environment.num_states)]))\n",
    "        param_list.append(agent.getParameterValues())\n",
    "        \n",
    "        if (episode % test_every == 0):\n",
    "            environment.resetCurrentState()\n",
    "            cumulative_reward = 0.0\n",
    "            decay = 1.0\n",
    "            while (True):\n",
    "                state = environment.getCurrentState()\n",
    "                action = agent.getAction(state, train=False)\n",
    "                reward, next_state, is_terminal = environment.takeAction(action)\n",
    "                cumulative_reward += decay * reward\n",
    "                decay *= environment.gamma\n",
    "                if (is_terminal):\n",
    "                    break\n",
    "            \n",
    "            print('\\rtesting result %f' % (cumulative_reward, ), end='')\n",
    "        \n",
    "    return Q_val_list, param_list\n"
   ]
  },
  {
   "cell_type": "code",
   "execution_count": 665,
   "metadata": {},
   "outputs": [],
   "source": [
    "def printD(agent, index):\n",
    "    for d in agent.D[index]:\n",
    "        print(d[0].num, d[1], d[2], d[3].num)"
   ]
  },
  {
   "cell_type": "code",
   "execution_count": 673,
   "metadata": {},
   "outputs": [],
   "source": [
    "np.random.seed(0)\n",
    "torch.manual_seed(0)\n",
    "\n",
    "environment = MDPEnvironment(mdp_file_path='mdp_data/mdp_3_3.dat')\n",
    "learning_hparams = {'learning_rate' : 0.002, 'momentum' : 0.0, 'batch_size' : 16, 'reg' : 0.0, 'importance_retain_factor' : 0.0}\n",
    "agent = BatchRLAgent(ER_epochs=500, episodes_per_batch=5, epsilon=1, \n",
    "                        gamma=environment.gamma, learning_hparams=learning_hparams, \n",
    "                        multi_output=False, gpu_id=-1, \n",
    "                        encoding_type='binary')\n",
    "dropout_input = 0.0\n",
    "dropout_hidden = 0.0\n",
    "agent.initQNetwork(environment.getCurrentState(), MDPAction.all_actions, \n",
    "                    dropout_input, dropout_hidden, \n",
    "                    num_layers=3, hidden_dim=4)"
   ]
  },
  {
   "cell_type": "code",
   "execution_count": 674,
   "metadata": {
    "scrolled": true
   },
   "outputs": [
    {
     "data": {
      "application/vnd.jupyter.widget-view+json": {
       "model_id": "79255b2b000042739d888a21a610486c",
       "version_major": 2,
       "version_minor": 0
      },
      "text/plain": [
       "HBox(children=(IntProgress(value=0, max=2000), HTML(value='')))"
      ]
     },
     "metadata": {},
     "output_type": "display_data"
    },
    {
     "name": "stdout",
     "output_type": "stream",
     "text": [
      "testing result -1.000000"
     ]
    }
   ],
   "source": [
    "num_episodes = 2000\n",
    "Q_val_list, param_list = simulateEpisodes(environment, agent, num_episodes)"
   ]
  },
  {
   "cell_type": "code",
   "execution_count": 675,
   "metadata": {},
   "outputs": [
    {
     "data": {
      "image/png": "[encoded data removed]",
      "text/plain": [
       "<Figure size 432x288 with 1 Axes>"
      ]
     },
     "metadata": {},
     "output_type": "display_data"
    }
   ],
   "source": [
    "q_temp = [Q_val_list[i][1][0] for i in range(len(Q_val_list))]\n",
    "plt.plot(q_temp)\n",
    "plt.show()"
   ]
  },
  {
   "cell_type": "code",
   "execution_count": 676,
   "metadata": {},
   "outputs": [
    {
     "name": "stdout",
     "output_type": "stream",
     "text": [
      "state 0 -1.9999595880508423 -1.0000077486038208 -1.0000176429748535 \n",
      "state 1 -10.000001907348633 -8.999999046325684 -19.0 \n",
      "state 2 -1.9942944049835205 -1.008607268333435 -1.0137449502944946 \n"
     ]
    }
   ],
   "source": [
    "for s in range(environment.num_states):\n",
    "    state = MDPState(s)\n",
    "    print('state %d' %(s, ), end=' ')\n",
    "    for a in state.getLegalActions():\n",
    "        print(agent.getQValue(state, a), end=' ')\n",
    "    print('')"
   ]
  },
  {
   "cell_type": "code",
   "execution_count": 677,
   "metadata": {},
   "outputs": [
    {
     "data": {
      "image/png": "[encoded data removed]",
      "text/plain": [
       "<Figure size 432x288 with 1 Axes>"
      ]
     },
     "metadata": {},
     "output_type": "display_data"
    }
   ],
   "source": [
    "temp_param_list = []\n",
    "for i in range(len(param_list)):\n",
    "    temp_param_list.append(param_list[i][1][0])\n",
    "plt.plot(temp_param_list)\n",
    "plt.show()"
   ]
  },
  {
   "cell_type": "code",
   "execution_count": null,
   "metadata": {},
   "outputs": [],
   "source": [
    "p_numpy = []\n",
    "for p in agent.Q.parameters():\n",
    "    p_numpy.append(deepcopy(p.to(agent.cpu_device).detach().numpy()))"
   ]
  },
  {
   "cell_type": "code",
   "execution_count": null,
   "metadata": {},
   "outputs": [],
   "source": [
    "print(p_numpy)"
   ]
  },
  {
   "cell_type": "code",
   "execution_count": null,
   "metadata": {},
   "outputs": [],
   "source": [
    "MDPState(0).getEncoding()"
   ]
  },
  {
   "cell_type": "code",
   "execution_count": null,
   "metadata": {},
   "outputs": [],
   "source": []
  }
 ],
 "metadata": {
  "kernelspec": {
   "display_name": "Python 3",
   "language": "python",
   "name": "python3"
  }
 },
 "nbformat": 4,
 "nbformat_minor": 2
}
